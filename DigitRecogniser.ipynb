{
 "cells": [
  {
   "cell_type": "markdown",
   "metadata": {},
   "source": [
    "## Import the packages required"
   ]
  },
  {
   "cell_type": "code",
   "execution_count": null,
   "metadata": {},
   "outputs": [],
   "source": [
    "import numpy as np  #for the mathematical operations\n",
    "\n",
    "import matplotlib.pyplot as plt  #for the graphs and plots\n",
    "\n",
    "import pandas as pd  #operations on the csv file\n",
    "\n",
    "from keras.models import Sequential  #sequential - a linear stack of layers\n",
    "from keras.layers import Dense , Dropout , Lambda, Flatten  #operations on the layers\n",
    "from keras.optimizers import Adam ,RMSprop  #learning rate,momentum gradient descent \n",
    "from sklearn.model_selection import train_test_split  #split the data into test and train\n",
    "from keras import backend as K  \n",
    "from keras.preprocessing.image import ImageDataGenerator\n",
    "\n",
    "\n",
    "from subprocess import check_output"
   ]
  },
  {
   "cell_type": "markdown",
   "metadata": {},
   "source": [
    "### Some info about the above modules imported-\n",
    "\n",
    "There are two types of models for keras- \n",
    "Sequential \n",
    "Funcional \n",
    "\n",
    "1. sequential- \n",
    "The sequential API allows you to create models layer-by-layer for most problems. \n",
    "It is limited in that it does not allow you to create models that share layers or have multiple inputs or outputs.\n",
    "2. functional-\n",
    "The functional API allows you to create models that have a lot more flexibility as you can easily define models where layers connect to more than just the previous and next layers. In fact, you can connect layers to (literally) any other layer. As a result, creating complex networks such as siamese networks and residual networks become possible.\n",
    "\n",
    "- Dense\n",
    "A dense layer is just a regular layer of neurons in a neural network. Each neuron recieves input from all the neurons in the previous layer, thus densely connected.\n",
    "- Dropout \n",
    "Dropout is a method to tackle overfitting in the model.\n",
    "- Flatten\n",
    "https://stackoverflow.com/questions/43237124/what-is-the-role-of-flatten-in-keras\n",
    "\n",
    "- Keras ImageDataGenrator-\n",
    "Used to  perform image augmentation by directly reading the CSV files through pandas dataframe.\n",
    "\n",
    "- Pandas Dataframe-\n",
    "A Data frame is a two-dimensional data structure, i.e., data is aligned in a tabular fashion in rows and columns.\n",
    "\n",
    "Rest will be covered ahead.\n"
   ]
  },
  {
   "cell_type": "code",
   "execution_count": null,
   "metadata": {},
   "outputs": [],
   "source": []
  }
 ],
 "metadata": {
  "kernelspec": {
   "display_name": "Python 3",
   "language": "python",
   "name": "python3"
  },
  "language_info": {
   "codemirror_mode": {
    "name": "ipython",
    "version": 3
   },
   "file_extension": ".py",
   "mimetype": "text/x-python",
   "name": "python",
   "nbconvert_exporter": "python",
   "pygments_lexer": "ipython3",
   "version": "3.6.9"
  }
 },
 "nbformat": 4,
 "nbformat_minor": 4
}
